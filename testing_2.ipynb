{
 "cells": [
  {
   "cell_type": "code",
   "execution_count": 7,
   "metadata": {},
   "outputs": [],
   "source": [
    "%matplotlib inline\n",
    "import matplotlib.pyplot as plt\n",
    "import numpy as np\n",
    "import pandas as pd\n",
    "from sklearn import model_selection\n",
    "from sklearn.linear_model import LogisticRegression\n",
    "from sklearn import linear_model\n",
    "import pickle"
   ]
  },
  {
   "cell_type": "code",
   "execution_count": 3,
   "metadata": {},
   "outputs": [
    {
     "data": {
      "text/html": [
       "<div>\n",
       "<style scoped>\n",
       "    .dataframe tbody tr th:only-of-type {\n",
       "        vertical-align: middle;\n",
       "    }\n",
       "\n",
       "    .dataframe tbody tr th {\n",
       "        vertical-align: top;\n",
       "    }\n",
       "\n",
       "    .dataframe thead th {\n",
       "        text-align: right;\n",
       "    }\n",
       "</style>\n",
       "<table border=\"1\" class=\"dataframe\">\n",
       "  <thead>\n",
       "    <tr style=\"text-align: right;\">\n",
       "      <th></th>\n",
       "      <th>YEAR</th>\n",
       "      <th>QUARTER</th>\n",
       "      <th>MONTH</th>\n",
       "      <th>DAY_OF_MONTH</th>\n",
       "      <th>DAY_OF_WEEK</th>\n",
       "      <th>FL_DATE</th>\n",
       "      <th>OP_UNIQUE_CARRIER</th>\n",
       "      <th>OP_CARRIER_AIRLINE_ID</th>\n",
       "      <th>OP_CARRIER</th>\n",
       "      <th>ORIGIN_AIRPORT_ID</th>\n",
       "      <th>...</th>\n",
       "      <th>CANCELLATION_CODE</th>\n",
       "      <th>DIVERTED</th>\n",
       "      <th>AIR_TIME</th>\n",
       "      <th>DISTANCE</th>\n",
       "      <th>CARRIER_DELAY</th>\n",
       "      <th>WEATHER_DELAY</th>\n",
       "      <th>NAS_DELAY</th>\n",
       "      <th>SECURITY_DELAY</th>\n",
       "      <th>LATE_AIRCRAFT_DELAY</th>\n",
       "      <th>Unnamed: 37</th>\n",
       "    </tr>\n",
       "  </thead>\n",
       "  <tbody>\n",
       "    <tr>\n",
       "      <th>0</th>\n",
       "      <td>2017</td>\n",
       "      <td>2</td>\n",
       "      <td>4</td>\n",
       "      <td>10</td>\n",
       "      <td>1</td>\n",
       "      <td>2017-04-10</td>\n",
       "      <td>DL</td>\n",
       "      <td>19790</td>\n",
       "      <td>DL</td>\n",
       "      <td>12478</td>\n",
       "      <td>...</td>\n",
       "      <td>NaN</td>\n",
       "      <td>0.0</td>\n",
       "      <td>203.0</td>\n",
       "      <td>1521.0</td>\n",
       "      <td>NaN</td>\n",
       "      <td>NaN</td>\n",
       "      <td>NaN</td>\n",
       "      <td>NaN</td>\n",
       "      <td>NaN</td>\n",
       "      <td>NaN</td>\n",
       "    </tr>\n",
       "    <tr>\n",
       "      <th>1</th>\n",
       "      <td>2017</td>\n",
       "      <td>2</td>\n",
       "      <td>4</td>\n",
       "      <td>10</td>\n",
       "      <td>1</td>\n",
       "      <td>2017-04-10</td>\n",
       "      <td>DL</td>\n",
       "      <td>19790</td>\n",
       "      <td>DL</td>\n",
       "      <td>14685</td>\n",
       "      <td>...</td>\n",
       "      <td>NaN</td>\n",
       "      <td>0.0</td>\n",
       "      <td>43.0</td>\n",
       "      <td>214.0</td>\n",
       "      <td>NaN</td>\n",
       "      <td>NaN</td>\n",
       "      <td>NaN</td>\n",
       "      <td>NaN</td>\n",
       "      <td>NaN</td>\n",
       "      <td>NaN</td>\n",
       "    </tr>\n",
       "    <tr>\n",
       "      <th>2</th>\n",
       "      <td>2017</td>\n",
       "      <td>2</td>\n",
       "      <td>4</td>\n",
       "      <td>10</td>\n",
       "      <td>1</td>\n",
       "      <td>2017-04-10</td>\n",
       "      <td>DL</td>\n",
       "      <td>19790</td>\n",
       "      <td>DL</td>\n",
       "      <td>10397</td>\n",
       "      <td>...</td>\n",
       "      <td>NaN</td>\n",
       "      <td>0.0</td>\n",
       "      <td>300.0</td>\n",
       "      <td>2182.0</td>\n",
       "      <td>NaN</td>\n",
       "      <td>NaN</td>\n",
       "      <td>NaN</td>\n",
       "      <td>NaN</td>\n",
       "      <td>NaN</td>\n",
       "      <td>NaN</td>\n",
       "    </tr>\n",
       "    <tr>\n",
       "      <th>3</th>\n",
       "      <td>2017</td>\n",
       "      <td>2</td>\n",
       "      <td>4</td>\n",
       "      <td>10</td>\n",
       "      <td>1</td>\n",
       "      <td>2017-04-10</td>\n",
       "      <td>DL</td>\n",
       "      <td>19790</td>\n",
       "      <td>DL</td>\n",
       "      <td>14771</td>\n",
       "      <td>...</td>\n",
       "      <td>NaN</td>\n",
       "      <td>0.0</td>\n",
       "      <td>298.0</td>\n",
       "      <td>2586.0</td>\n",
       "      <td>NaN</td>\n",
       "      <td>NaN</td>\n",
       "      <td>NaN</td>\n",
       "      <td>NaN</td>\n",
       "      <td>NaN</td>\n",
       "      <td>NaN</td>\n",
       "    </tr>\n",
       "    <tr>\n",
       "      <th>4</th>\n",
       "      <td>2017</td>\n",
       "      <td>2</td>\n",
       "      <td>4</td>\n",
       "      <td>10</td>\n",
       "      <td>1</td>\n",
       "      <td>2017-04-10</td>\n",
       "      <td>DL</td>\n",
       "      <td>19790</td>\n",
       "      <td>DL</td>\n",
       "      <td>10397</td>\n",
       "      <td>...</td>\n",
       "      <td>NaN</td>\n",
       "      <td>0.0</td>\n",
       "      <td>35.0</td>\n",
       "      <td>214.0</td>\n",
       "      <td>NaN</td>\n",
       "      <td>NaN</td>\n",
       "      <td>NaN</td>\n",
       "      <td>NaN</td>\n",
       "      <td>NaN</td>\n",
       "      <td>NaN</td>\n",
       "    </tr>\n",
       "  </tbody>\n",
       "</table>\n",
       "<p>5 rows × 38 columns</p>\n",
       "</div>"
      ],
      "text/plain": [
       "   YEAR  QUARTER  MONTH  DAY_OF_MONTH  DAY_OF_WEEK     FL_DATE  \\\n",
       "0  2017        2      4            10            1  2017-04-10   \n",
       "1  2017        2      4            10            1  2017-04-10   \n",
       "2  2017        2      4            10            1  2017-04-10   \n",
       "3  2017        2      4            10            1  2017-04-10   \n",
       "4  2017        2      4            10            1  2017-04-10   \n",
       "\n",
       "  OP_UNIQUE_CARRIER  OP_CARRIER_AIRLINE_ID OP_CARRIER  ORIGIN_AIRPORT_ID  ...  \\\n",
       "0                DL                  19790         DL              12478  ...   \n",
       "1                DL                  19790         DL              14685  ...   \n",
       "2                DL                  19790         DL              10397  ...   \n",
       "3                DL                  19790         DL              14771  ...   \n",
       "4                DL                  19790         DL              10397  ...   \n",
       "\n",
       "   CANCELLATION_CODE  DIVERTED AIR_TIME DISTANCE CARRIER_DELAY WEATHER_DELAY  \\\n",
       "0                NaN       0.0    203.0   1521.0           NaN           NaN   \n",
       "1                NaN       0.0     43.0    214.0           NaN           NaN   \n",
       "2                NaN       0.0    300.0   2182.0           NaN           NaN   \n",
       "3                NaN       0.0    298.0   2586.0           NaN           NaN   \n",
       "4                NaN       0.0     35.0    214.0           NaN           NaN   \n",
       "\n",
       "   NAS_DELAY  SECURITY_DELAY  LATE_AIRCRAFT_DELAY Unnamed: 37  \n",
       "0        NaN             NaN                  NaN         NaN  \n",
       "1        NaN             NaN                  NaN         NaN  \n",
       "2        NaN             NaN                  NaN         NaN  \n",
       "3        NaN             NaN                  NaN         NaN  \n",
       "4        NaN             NaN                  NaN         NaN  \n",
       "\n",
       "[5 rows x 38 columns]"
      ]
     },
     "execution_count": 3,
     "metadata": {},
     "output_type": "execute_result"
    }
   ],
   "source": [
    "airlines_2017 = pd.read_csv('combined_2017_csv.csv', low_memory=False)\n",
    "airlines_2017.head()"
   ]
  },
  {
   "cell_type": "code",
   "execution_count": 4,
   "metadata": {},
   "outputs": [
    {
     "data": {
      "text/html": [
       "<div>\n",
       "<style scoped>\n",
       "    .dataframe tbody tr th:only-of-type {\n",
       "        vertical-align: middle;\n",
       "    }\n",
       "\n",
       "    .dataframe tbody tr th {\n",
       "        vertical-align: top;\n",
       "    }\n",
       "\n",
       "    .dataframe thead th {\n",
       "        text-align: right;\n",
       "    }\n",
       "</style>\n",
       "<table border=\"1\" class=\"dataframe\">\n",
       "  <thead>\n",
       "    <tr style=\"text-align: right;\">\n",
       "      <th></th>\n",
       "      <th>MONTH</th>\n",
       "      <th>DAY_OF_MONTH</th>\n",
       "      <th>OP_UNIQUE_CARRIER</th>\n",
       "      <th>DEP_DELAY</th>\n",
       "    </tr>\n",
       "  </thead>\n",
       "  <tbody>\n",
       "    <tr>\n",
       "      <th>0</th>\n",
       "      <td>1</td>\n",
       "      <td>1</td>\n",
       "      <td>AA</td>\n",
       "      <td>13.474717</td>\n",
       "    </tr>\n",
       "    <tr>\n",
       "      <th>1</th>\n",
       "      <td>1</td>\n",
       "      <td>1</td>\n",
       "      <td>AS</td>\n",
       "      <td>40.791667</td>\n",
       "    </tr>\n",
       "    <tr>\n",
       "      <th>2</th>\n",
       "      <td>1</td>\n",
       "      <td>1</td>\n",
       "      <td>B6</td>\n",
       "      <td>8.789072</td>\n",
       "    </tr>\n",
       "    <tr>\n",
       "      <th>3</th>\n",
       "      <td>1</td>\n",
       "      <td>1</td>\n",
       "      <td>DL</td>\n",
       "      <td>8.638934</td>\n",
       "    </tr>\n",
       "    <tr>\n",
       "      <th>4</th>\n",
       "      <td>1</td>\n",
       "      <td>1</td>\n",
       "      <td>EV</td>\n",
       "      <td>17.517078</td>\n",
       "    </tr>\n",
       "    <tr>\n",
       "      <th>...</th>\n",
       "      <td>...</td>\n",
       "      <td>...</td>\n",
       "      <td>...</td>\n",
       "      <td>...</td>\n",
       "    </tr>\n",
       "    <tr>\n",
       "      <th>4375</th>\n",
       "      <td>12</td>\n",
       "      <td>31</td>\n",
       "      <td>NK</td>\n",
       "      <td>23.343612</td>\n",
       "    </tr>\n",
       "    <tr>\n",
       "      <th>4376</th>\n",
       "      <td>12</td>\n",
       "      <td>31</td>\n",
       "      <td>OO</td>\n",
       "      <td>19.173171</td>\n",
       "    </tr>\n",
       "    <tr>\n",
       "      <th>4377</th>\n",
       "      <td>12</td>\n",
       "      <td>31</td>\n",
       "      <td>UA</td>\n",
       "      <td>7.905239</td>\n",
       "    </tr>\n",
       "    <tr>\n",
       "      <th>4378</th>\n",
       "      <td>12</td>\n",
       "      <td>31</td>\n",
       "      <td>VX</td>\n",
       "      <td>1.972222</td>\n",
       "    </tr>\n",
       "    <tr>\n",
       "      <th>4379</th>\n",
       "      <td>12</td>\n",
       "      <td>31</td>\n",
       "      <td>WN</td>\n",
       "      <td>13.519830</td>\n",
       "    </tr>\n",
       "  </tbody>\n",
       "</table>\n",
       "<p>4380 rows × 4 columns</p>\n",
       "</div>"
      ],
      "text/plain": [
       "      MONTH  DAY_OF_MONTH OP_UNIQUE_CARRIER  DEP_DELAY\n",
       "0         1             1                AA  13.474717\n",
       "1         1             1                AS  40.791667\n",
       "2         1             1                B6   8.789072\n",
       "3         1             1                DL   8.638934\n",
       "4         1             1                EV  17.517078\n",
       "...     ...           ...               ...        ...\n",
       "4375     12            31                NK  23.343612\n",
       "4376     12            31                OO  19.173171\n",
       "4377     12            31                UA   7.905239\n",
       "4378     12            31                VX   1.972222\n",
       "4379     12            31                WN  13.519830\n",
       "\n",
       "[4380 rows x 4 columns]"
      ]
     },
     "execution_count": 4,
     "metadata": {},
     "output_type": "execute_result"
    }
   ],
   "source": [
    "airlines_2017_df =airlines_2017.groupby(['MONTH','DAY_OF_MONTH','OP_UNIQUE_CARRIER'], as_index=False)['DEP_DELAY'].mean()\n",
    "airlines_2017_df"
   ]
  },
  {
   "cell_type": "code",
   "execution_count": 5,
   "metadata": {},
   "outputs": [
    {
     "name": "stdout",
     "output_type": "stream",
     "text": [
      "{'AA':       MONTH  DAY_OF_MONTH OP_UNIQUE_CARRIER  DEP_DELAY\n",
      "0         1             1                AA  13.474717\n",
      "12        1             2                AA  15.989875\n",
      "24        1             3                AA  10.142229\n",
      "36        1             4                AA   9.800664\n",
      "48        1             5                AA  11.404634\n",
      "...     ...           ...               ...        ...\n",
      "4320     12            27                AA   8.119259\n",
      "4332     12            28                AA   7.597898\n",
      "4344     12            29                AA  11.092499\n",
      "4356     12            30                AA  14.389392\n",
      "4368     12            31                AA  26.075279\n",
      "\n",
      "[365 rows x 4 columns]}\n"
     ]
    },
    {
     "ename": "TypeError",
     "evalue": "string indices must be integers",
     "output_type": "error",
     "traceback": [
      "\u001b[1;31m---------------------------------------------------------------------------\u001b[0m",
      "\u001b[1;31mTypeError\u001b[0m                                 Traceback (most recent call last)",
      "\u001b[1;32m<ipython-input-5-95cc849c3b8c>\u001b[0m in \u001b[0;36m<module>\u001b[1;34m\u001b[0m\n\u001b[0;32m      7\u001b[0m     \u001b[0mprint\u001b[0m\u001b[1;33m(\u001b[0m\u001b[0mdictionary\u001b[0m\u001b[1;33m)\u001b[0m\u001b[1;33m\u001b[0m\u001b[1;33m\u001b[0m\u001b[0m\n\u001b[0;32m      8\u001b[0m \u001b[1;31m#     airline[airline] = airlines_2017_df.loc[airlines_2017_df['OP_UNIQUE_CARRIER'] == airline]\u001b[0m\u001b[1;33m\u001b[0m\u001b[1;33m\u001b[0m\u001b[1;33m\u001b[0m\u001b[0m\n\u001b[1;32m----> 9\u001b[1;33m     \u001b[0mX\u001b[0m \u001b[1;33m=\u001b[0m \u001b[0mairline\u001b[0m\u001b[1;33m[\u001b[0m\u001b[0mairline\u001b[0m\u001b[1;33m]\u001b[0m\u001b[1;33m[\u001b[0m\u001b[1;33m[\u001b[0m\u001b[1;34m\"MONTH\"\u001b[0m\u001b[1;33m,\u001b[0m\u001b[1;34m\"DAY_OF_MONTH\"\u001b[0m\u001b[1;33m]\u001b[0m\u001b[1;33m]\u001b[0m\u001b[1;33m\u001b[0m\u001b[1;33m\u001b[0m\u001b[0m\n\u001b[0m\u001b[0;32m     10\u001b[0m     \u001b[0my\u001b[0m \u001b[1;33m=\u001b[0m \u001b[0mairline\u001b[0m\u001b[1;33m[\u001b[0m\u001b[0mairline\u001b[0m\u001b[1;33m]\u001b[0m\u001b[1;33m[\u001b[0m\u001b[1;34m\"DEP_DELAY\"\u001b[0m\u001b[1;33m]\u001b[0m\u001b[1;33m\u001b[0m\u001b[1;33m\u001b[0m\u001b[0m\n\u001b[0;32m     11\u001b[0m \u001b[1;31m#     Xy.append({'X': X, 'y': y})\u001b[0m\u001b[1;33m\u001b[0m\u001b[1;33m\u001b[0m\u001b[1;33m\u001b[0m\u001b[0m\n",
      "\u001b[1;31mTypeError\u001b[0m: string indices must be integers"
     ]
    }
   ],
   "source": [
    "airlines = ['AA','B6','NK','UA','VX']\n",
    "dictionary = {}\n",
    "X = []\n",
    "y=[]\n",
    "for airline in airlines:\n",
    "    dictionary[airline] = airlines_2017_df.loc[airlines_2017_df['OP_UNIQUE_CARRIER'] == airline]\n",
    "    print(dictionary)\n",
    "#     airline[airline] = airlines_2017_df.loc[airlines_2017_df['OP_UNIQUE_CARRIER'] == airline]\n",
    "    X = airline[airline][[\"MONTH\",\"DAY_OF_MONTH\"]]\n",
    "    y = airline[airline][\"DEP_DELAY\"]\n",
    "#     Xy.append({'X': X, 'y': y})\n",
    "    regr = linear_model.LinearRegression()\n",
    "    regr.fit(X, y)\n",
    "    predicted = regr.predict([[1,1]])\n",
    "    print(predicted)\n",
    "    "
   ]
  },
  {
   "cell_type": "code",
   "execution_count": 27,
   "metadata": {},
   "outputs": [
    {
     "name": "stdout",
     "output_type": "stream",
     "text": [
      "{'AA':       MONTH  DAY_OF_MONTH OP_UNIQUE_CARRIER  DEP_DELAY\n",
      "0         1             1                AA  13.474717\n",
      "12        1             2                AA  15.989875\n",
      "24        1             3                AA  10.142229\n",
      "36        1             4                AA   9.800664\n",
      "48        1             5                AA  11.404634\n",
      "...     ...           ...               ...        ...\n",
      "4320     12            27                AA   8.119259\n",
      "4332     12            28                AA   7.597898\n",
      "4344     12            29                AA  11.092499\n",
      "4356     12            30                AA  14.389392\n",
      "4368     12            31                AA  26.075279\n",
      "\n",
      "[365 rows x 4 columns], 'B6':       MONTH  DAY_OF_MONTH OP_UNIQUE_CARRIER  DEP_DELAY\n",
      "2         1             1                B6   8.789072\n",
      "14        1             2                B6  18.650121\n",
      "26        1             3                B6  23.431734\n",
      "38        1             4                B6  18.735108\n",
      "50        1             5                B6  11.523926\n",
      "...     ...           ...               ...        ...\n",
      "4322     12            27                B6  17.763189\n",
      "4334     12            28                B6  19.630841\n",
      "4346     12            29                B6  25.622509\n",
      "4358     12            30                B6  32.435057\n",
      "4370     12            31                B6  31.144219\n",
      "\n",
      "[365 rows x 4 columns], 'NK':       MONTH  DAY_OF_MONTH OP_UNIQUE_CARRIER  DEP_DELAY\n",
      "7         1             1                NK  16.773779\n",
      "19        1             2                NK  36.423077\n",
      "31        1             3                NK  17.002506\n",
      "43        1             4                NK   5.737624\n",
      "55        1             5                NK  15.669975\n",
      "...     ...           ...               ...        ...\n",
      "4327     12            27                NK   8.895197\n",
      "4339     12            28                NK   5.259912\n",
      "4351     12            29                NK   9.969231\n",
      "4363     12            30                NK  16.374179\n",
      "4375     12            31                NK  23.343612\n",
      "\n",
      "[365 rows x 4 columns], 'UA':       MONTH  DAY_OF_MONTH OP_UNIQUE_CARRIER  DEP_DELAY\n",
      "9         1             1                UA  10.427577\n",
      "21        1             2                UA  28.057486\n",
      "33        1             3                UA  23.589841\n",
      "45        1             4                UA  19.534934\n",
      "57        1             5                UA  17.255563\n",
      "...     ...           ...               ...        ...\n",
      "4329     12            27                UA  11.821678\n",
      "4341     12            28                UA  13.459207\n",
      "4353     12            29                UA  10.746339\n",
      "4365     12            30                UA  12.694350\n",
      "4377     12            31                UA   7.905239\n",
      "\n",
      "[365 rows x 4 columns], 'VX':       MONTH  DAY_OF_MONTH OP_UNIQUE_CARRIER  DEP_DELAY\n",
      "10        1             1                VX   7.723757\n",
      "22        1             2                VX  25.261905\n",
      "34        1             3                VX  56.184615\n",
      "46        1             4                VX  22.380208\n",
      "58        1             5                VX  26.255102\n",
      "...     ...           ...               ...        ...\n",
      "4330     12            27                VX  22.688073\n",
      "4342     12            28                VX   0.682243\n",
      "4354     12            29                VX  -0.083333\n",
      "4366     12            30                VX  14.097087\n",
      "4378     12            31                VX   1.972222\n",
      "\n",
      "[365 rows x 4 columns]}\n"
     ]
    }
   ],
   "source": [
    "print(dictionary)"
   ]
  },
  {
   "cell_type": "code",
   "execution_count": 27,
   "metadata": {},
   "outputs": [
    {
     "data": {
      "text/plain": [
       "LinearRegression()"
      ]
     },
     "execution_count": 27,
     "metadata": {},
     "output_type": "execute_result"
    }
   ],
   "source": [
    "AA_df = airlines_2017_df.loc[airlines_2017_df['OP_UNIQUE_CARRIER'] == \"AA\"]\n",
    "AA_df\n",
    "X = AA_df[[\"MONTH\",\"DAY_OF_MONTH\"]]\n",
    "y = AA_df[\"DEP_DELAY\"]\n",
    "regr_AA = linear_model.LinearRegression()\n",
    "regr_AA.fit(X, y)"
   ]
  },
  {
   "cell_type": "code",
   "execution_count": 30,
   "metadata": {},
   "outputs": [
    {
     "name": "stdout",
     "output_type": "stream",
     "text": [
      "[9.84664284]\n"
     ]
    }
   ],
   "source": [
    "AA_predicted = regr_AA.predict([[1,1]])\n",
    "print(AA_predicted)"
   ]
  },
  {
   "cell_type": "code",
   "execution_count": 32,
   "metadata": {},
   "outputs": [
    {
     "data": {
      "text/plain": [
       "LinearRegression()"
      ]
     },
     "execution_count": 32,
     "metadata": {},
     "output_type": "execute_result"
    }
   ],
   "source": [
    "B6_df = airlines_2017_df.loc[airlines_2017_df['OP_UNIQUE_CARRIER'] == \"B6\"]\n",
    "B6_df\n",
    "X = B6_df[[\"MONTH\",\"DAY_OF_MONTH\"]]\n",
    "y = B6_df[\"DEP_DELAY\"]\n",
    "regr_B6 = linear_model.LinearRegression()\n",
    "regr_B6.fit(X, y)"
   ]
  },
  {
   "cell_type": "code",
   "execution_count": 33,
   "metadata": {},
   "outputs": [
    {
     "name": "stdout",
     "output_type": "stream",
     "text": [
      "[20.44956245]\n"
     ]
    }
   ],
   "source": [
    "B6_predicted = regr_B6.predict([[1,1]])\n",
    "print(B6_predicted)"
   ]
  },
  {
   "cell_type": "code",
   "execution_count": 34,
   "metadata": {},
   "outputs": [
    {
     "data": {
      "text/plain": [
       "LinearRegression()"
      ]
     },
     "execution_count": 34,
     "metadata": {},
     "output_type": "execute_result"
    }
   ],
   "source": [
    "NK_df = airlines_2017_df.loc[airlines_2017_df['OP_UNIQUE_CARRIER'] == \"NK\"]\n",
    "NK_df\n",
    "X = NK_df[[\"MONTH\",\"DAY_OF_MONTH\"]]\n",
    "y = NK_df[\"DEP_DELAY\"]\n",
    "regr_NK = linear_model.LinearRegression()\n",
    "regr_NK.fit(X, y)"
   ]
  },
  {
   "cell_type": "code",
   "execution_count": 35,
   "metadata": {},
   "outputs": [
    {
     "name": "stdout",
     "output_type": "stream",
     "text": [
      "[16.66935841]\n"
     ]
    }
   ],
   "source": [
    "NK_predicted = regr_NK.predict([[1,1]])\n",
    "print(NK_predicted)"
   ]
  },
  {
   "cell_type": "code",
   "execution_count": 36,
   "metadata": {},
   "outputs": [
    {
     "data": {
      "text/plain": [
       "LinearRegression()"
      ]
     },
     "execution_count": 36,
     "metadata": {},
     "output_type": "execute_result"
    }
   ],
   "source": [
    "UA_df = airlines_2017_df.loc[airlines_2017_df['OP_UNIQUE_CARRIER'] == \"UA\"]\n",
    "UA_df\n",
    "X = UA_df[[\"MONTH\",\"DAY_OF_MONTH\"]]\n",
    "y = UA_df[\"DEP_DELAY\"]\n",
    "regr_UA = linear_model.LinearRegression()\n",
    "regr_UA.fit(X, y)"
   ]
  },
  {
   "cell_type": "code",
   "execution_count": 37,
   "metadata": {},
   "outputs": [
    {
     "name": "stdout",
     "output_type": "stream",
     "text": [
      "[14.54201064]\n"
     ]
    }
   ],
   "source": [
    "UA_predicted = regr_UA.predict([[1,1]])\n",
    "print(UA_predicted)"
   ]
  },
  {
   "cell_type": "code",
   "execution_count": 38,
   "metadata": {},
   "outputs": [
    {
     "data": {
      "text/plain": [
       "LinearRegression()"
      ]
     },
     "execution_count": 38,
     "metadata": {},
     "output_type": "execute_result"
    }
   ],
   "source": [
    "VX_df = airlines_2017_df.loc[airlines_2017_df['OP_UNIQUE_CARRIER'] == \"VX\"]\n",
    "VX_df\n",
    "X = VX_df[[\"MONTH\",\"DAY_OF_MONTH\"]]\n",
    "y = VX_df[\"DEP_DELAY\"]\n",
    "regr_VX = linear_model.LinearRegression()\n",
    "regr_VX.fit(X, y)"
   ]
  },
  {
   "cell_type": "code",
   "execution_count": 39,
   "metadata": {},
   "outputs": [
    {
     "name": "stdout",
     "output_type": "stream",
     "text": [
      "[22.88222365]\n"
     ]
    }
   ],
   "source": [
    "VX_predicted = regr_VX.predict([[1,1]])\n",
    "print(VX_predicted)"
   ]
  },
  {
   "cell_type": "code",
   "execution_count": 40,
   "metadata": {},
   "outputs": [
    {
     "name": "stdout",
     "output_type": "stream",
     "text": [
      "[9.84664284]\n",
      "[20.44956245]\n",
      "[16.66935841]\n",
      "[14.54201064]\n",
      "[22.88222365]\n"
     ]
    }
   ],
   "source": [
    "print(AA_predicted)\n",
    "print(B6_predicted)\n",
    "print(NK_predicted)\n",
    "print(UA_predicted)\n",
    "print(VX_predicted)"
   ]
  },
  {
   "cell_type": "code",
   "execution_count": null,
   "metadata": {},
   "outputs": [],
   "source": []
  }
 ],
 "metadata": {
  "kernelspec": {
   "display_name": "Python 3",
   "language": "python",
   "name": "python3"
  },
  "language_info": {
   "codemirror_mode": {
    "name": "ipython",
    "version": 3
   },
   "file_extension": ".py",
   "mimetype": "text/x-python",
   "name": "python",
   "nbconvert_exporter": "python",
   "pygments_lexer": "ipython3",
   "version": "3.8.5"
  }
 },
 "nbformat": 4,
 "nbformat_minor": 4
}
